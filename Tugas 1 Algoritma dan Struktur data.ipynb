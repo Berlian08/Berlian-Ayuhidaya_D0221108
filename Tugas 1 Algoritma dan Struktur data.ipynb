{
 "cells": [
  {
   "cell_type": "code",
   "execution_count": null,
   "id": "b4bd7050",
   "metadata": {},
   "outputs": [],
   "source": [
    "#Type data Python\n",
    "#1. String \n",
    "#2. Integer \n",
    "#3. float \n",
    "#4. Boolean \n"
   ]
  },
  {
   "cell_type": "code",
   "execution_count": 24,
   "id": "20c0d618",
   "metadata": {},
   "outputs": [
    {
     "name": "stdout",
     "output_type": "stream",
     "text": [
      "<class 'str'>\n",
      "<class 'int'>\n",
      "<class 'float'>\n",
      "<class 'bool'>\n",
      "Nama   : Berlian\n",
      "Umur   : 20\n",
      "Tinggi : 150.0\n",
      "belum menikah\n"
     ]
    }
   ],
   "source": [
    "nama = \"Berlian\"\n",
    "print(type(nama))\n",
    "umur = 20\n",
    "print(type(umur))\n",
    "tinggi = 150.0\n",
    "print(type(tinggi))\n",
    "menikah = True\n",
    "print(type(menikah))\n",
    "\n",
    "\n",
    "print(\"Nama   :\", nama)\n",
    "print(\"Umur   :\", umur)\n",
    "print(\"Tinggi :\",tinggi)\n",
    "if menikah :\n",
    "    print(\"belum menikah\")\n",
    "else :\n",
    "    print(\"sudah menikah\")"
   ]
  },
  {
   "cell_type": "code",
   "execution_count": null,
   "id": "b8db35f7",
   "metadata": {},
   "outputs": [],
   "source": [
    "#operator aritmatika"
   ]
  },
  {
   "cell_type": "code",
   "execution_count": 26,
   "id": "fc3233c4",
   "metadata": {},
   "outputs": [
    {
     "name": "stdout",
     "output_type": "stream",
     "text": [
      "12\n",
      "8\n",
      "20\n",
      "5.0\n",
      "100\n",
      "0\n",
      "5\n"
     ]
    }
   ],
   "source": [
    "nilai1 = 10\n",
    "nilai2 = 2\n",
    "print(nilai1 + nilai2)\n",
    "print(nilai1 - nilai2)\n",
    "print(nilai1 * nilai2)\n",
    "print(nilai1 / nilai2)\n",
    "print(nilai1 ** nilai2)\n",
    "print(nilai1 % nilai2)\n",
    "print(nilai1 // nilai2)"
   ]
  },
  {
   "cell_type": "code",
   "execution_count": null,
   "id": "874764c1",
   "metadata": {},
   "outputs": [],
   "source": [
    "#Operator tantangan\n",
    "#contoh kasus\n",
    "#Nim D\n",
    "#gaji poko 1.000.000\n",
    "#gaji lembur / jam Rp. 500\n",
    "#lama lembur = sesuai angka terakhir NIM\n",
    "#gaji lembut = (gaji lembur/jam)*lama lembur\n",
    "#pajak 0.09\n"
   ]
  },
  {
   "cell_type": "code",
   "execution_count": 27,
   "id": "2e083d06",
   "metadata": {},
   "outputs": [
    {
     "name": "stdout",
     "output_type": "stream",
     "text": [
      "program gaji karyawan\n",
      "Nim :D0221108\n",
      "Gaji pokok :1000000\n",
      "Gaji lembur : 4000\n",
      "Gaji kotor  : 1004000\n",
      "Gaji bersih : 914000.0\n"
     ]
    }
   ],
   "source": [
    "print(\"program gaji karyawan\")\n",
    "nim = str(input(\"Nim :\"))\n",
    "gp = int(input(\"Gaji pokok :\"))\n",
    "lm =8\n",
    "gl = lm *500\n",
    "gk = gp+gl\n",
    "pjk +0.09 *gp\n",
    "print(\"Gaji lembur :\",gl)\n",
    "print(\"Gaji kotor  :\", (gp+gl))\n",
    "print(\"Gaji bersih :\",(gk-pjk))"
   ]
  },
  {
   "cell_type": "code",
   "execution_count": null,
   "id": "2035bd9d",
   "metadata": {},
   "outputs": [],
   "source": [
    "#operator penugasan"
   ]
  },
  {
   "cell_type": "code",
   "execution_count": 39,
   "id": "683027a1",
   "metadata": {},
   "outputs": [
    {
     "name": "stdout",
     "output_type": "stream",
     "text": [
      "5\n",
      "3\n",
      "3\n",
      "24\n",
      "12.0\n",
      "2.0\n",
      "64.0\n",
      "16.0\n"
     ]
    }
   ],
   "source": [
    "nilai = 2\n",
    "nilai2 = 50\n",
    "nilai += 3\n",
    "nilai2 =+ 3\n",
    "print(nilai)\n",
    "print(nilai2)\n",
    "nilai -= 2\n",
    "print(nilai)\n",
    "nilai *= 8\n",
    "print(nilai)\n",
    "nilai /= 2\n",
    "print(nilai)\n",
    "nilai %= 5\n",
    "print(nilai)\n",
    "nilai **= 6\n",
    "print(nilai)\n",
    "nilai //= 4\n",
    "print(nilai)"
   ]
  },
  {
   "cell_type": "code",
   "execution_count": null,
   "id": "8c25a181",
   "metadata": {},
   "outputs": [],
   "source": [
    "#operator perbandingan\n",
    "# ==\n",
    "# !=\n",
    "# <\n",
    "# >\n",
    "# <=\n",
    "# >=\n"
   ]
  },
  {
   "cell_type": "code",
   "execution_count": 45,
   "id": "d86a890c",
   "metadata": {},
   "outputs": [
    {
     "name": "stdout",
     "output_type": "stream",
     "text": [
      "True\n",
      "True\n",
      "False\n",
      "False\n",
      "True\n",
      "False\n"
     ]
    }
   ],
   "source": [
    "print (1 == 1)\n",
    "print (2 != 3)\n",
    "print (4 < 2)\n",
    "print (8 > 9)\n",
    "print (9 <= 10)\n",
    "print (10 >= 12)"
   ]
  },
  {
   "cell_type": "code",
   "execution_count": null,
   "id": "b10470e2",
   "metadata": {},
   "outputs": [],
   "source": [
    "#Operator logika \n",
    "# AND\n",
    "# OR\n",
    "#NOT"
   ]
  },
  {
   "cell_type": "code",
   "execution_count": 46,
   "id": "0b917b35",
   "metadata": {},
   "outputs": [
    {
     "name": "stdout",
     "output_type": "stream",
     "text": [
      "True\n",
      "False\n",
      "False\n",
      "False\n"
     ]
    }
   ],
   "source": [
    "print (True and True)\n",
    "print (True and False)\n",
    "print (False and True)\n",
    "print (False and False)"
   ]
  },
  {
   "cell_type": "code",
   "execution_count": 47,
   "id": "aa21a1e1",
   "metadata": {},
   "outputs": [
    {
     "name": "stdout",
     "output_type": "stream",
     "text": [
      "True\n",
      "True\n",
      "True\n",
      "False\n"
     ]
    }
   ],
   "source": [
    "print (True or True)\n",
    "print (True or False)\n",
    "print (False or True)\n",
    "print (False or False)"
   ]
  },
  {
   "cell_type": "code",
   "execution_count": 50,
   "id": "2bf4a3cb",
   "metadata": {},
   "outputs": [
    {
     "name": "stdout",
     "output_type": "stream",
     "text": [
      "False\n",
      "True\n"
     ]
    }
   ],
   "source": [
    "print (not True)\n",
    "print (not False)"
   ]
  },
  {
   "cell_type": "code",
   "execution_count": null,
   "id": "005b9dcf",
   "metadata": {},
   "outputs": [],
   "source": [
    "#Percabangan If"
   ]
  },
  {
   "cell_type": "code",
   "execution_count": 54,
   "id": "5c987ac2",
   "metadata": {},
   "outputs": [
    {
     "name": "stdout",
     "output_type": "stream",
     "text": [
      "Nilai A\n"
     ]
    }
   ],
   "source": [
    "nilai = 95\n",
    "if (nilai >= 85 ):\n",
    "    print(\"Nilai A\")"
   ]
  },
  {
   "cell_type": "code",
   "execution_count": null,
   "id": "7fef9cf9",
   "metadata": {},
   "outputs": [],
   "source": [
    "#percabangan if else"
   ]
  },
  {
   "cell_type": "code",
   "execution_count": 55,
   "id": "ab43369c",
   "metadata": {},
   "outputs": [
    {
     "name": "stdout",
     "output_type": "stream",
     "text": [
      "Tidak lulus\n"
     ]
    }
   ],
   "source": [
    "nilai = 40\n",
    "if (nilai >= 50):\n",
    "    print(\"lulus\")\n",
    "else :\n",
    "    print(\"Tidak lulus\")"
   ]
  },
  {
   "cell_type": "code",
   "execution_count": null,
   "id": "2b624946",
   "metadata": {},
   "outputs": [],
   "source": [
    "#percabangan elif"
   ]
  },
  {
   "cell_type": "code",
   "execution_count": 56,
   "id": "920a42bd",
   "metadata": {},
   "outputs": [
    {
     "name": "stdout",
     "output_type": "stream",
     "text": [
      "Masukkan nilai anda:80\n",
      "A-\n"
     ]
    }
   ],
   "source": [
    "nilai = int(input(\"Masukkan nilai anda:\"))\n",
    "if nilai >= 85 :\n",
    "    print(\"A\")\n",
    "elif nilai >= 80 :\n",
    "    print(\"A-\")\n",
    "elif nilai >=75 :\n",
    "    print(\"B\")\n",
    "elif nilai >=70 :\n",
    "    print(\"B-\")\n",
    "elif nilai >= 65 :\n",
    "    print(\"c\")\n",
    "elif nilai >= 60 :\n",
    "    print(\"C-\")\n",
    "elif nilai >= 50 :\n",
    "    print (\"D\")\n",
    "else :\n",
    "    print(\"E\")\n",
    "\n",
    "                  "
   ]
  },
  {
   "cell_type": "code",
   "execution_count": null,
   "id": "08ad04a3",
   "metadata": {},
   "outputs": [],
   "source": []
  }
 ],
 "metadata": {
  "kernelspec": {
   "display_name": "Python 3 (ipykernel)",
   "language": "python",
   "name": "python3"
  },
  "language_info": {
   "codemirror_mode": {
    "name": "ipython",
    "version": 3
   },
   "file_extension": ".py",
   "mimetype": "text/x-python",
   "name": "python",
   "nbconvert_exporter": "python",
   "pygments_lexer": "ipython3",
   "version": "3.9.10"
  }
 },
 "nbformat": 4,
 "nbformat_minor": 5
}
